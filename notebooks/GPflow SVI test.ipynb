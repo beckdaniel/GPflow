{
 "cells": [
  {
   "cell_type": "code",
   "execution_count": null,
   "metadata": {
    "collapsed": false
   },
   "outputs": [],
   "source": [
    "%matplotlib inline\n",
    "import sys\n",
    "import numpy as np\n",
    "import numpy.random as rnd\n",
    "import time\n",
    "import GPflow\n",
    "import datasets\n",
    "import tensorflow as tf"
   ]
  },
  {
   "cell_type": "code",
   "execution_count": null,
   "metadata": {
    "collapsed": true
   },
   "outputs": [],
   "source": [
    "M = 50"
   ]
  },
  {
   "cell_type": "code",
   "execution_count": null,
   "metadata": {
    "collapsed": false
   },
   "outputs": [],
   "source": [
    "def func(x):\n",
    "    return np.sin(x * 3*3.14) + 0.3*np.cos(x * 9*3.14) + 0.5 * np.sin(x * 7*3.14)\n",
    "X = rnd.rand(10000, 1) * 2 - 1\n",
    "Y = func(X) + rnd.randn(10000, 1) * 0.2\n",
    "plt.plot(X, Y, 'x')\n",
    "D = X.shape[1]\n",
    "Xt = np.linspace(-1.1, 1.1, 100)[:, None]\n",
    "Yt = func(Xt)"
   ]
  },
  {
   "cell_type": "code",
   "execution_count": null,
   "metadata": {
    "collapsed": false
   },
   "outputs": [],
   "source": [
    "def init():\n",
    "    kern = GPflow.kernels.RBF(D, 1)\n",
    "    Z = X[:M, :]\n",
    "    m = GPflow.svgp.SVGP(X, Y, kern, GPflow.likelihoods.Gaussian(), Z)\n",
    "    return m\n",
    "m = init()"
   ]
  },
  {
   "cell_type": "code",
   "execution_count": null,
   "metadata": {
    "collapsed": false
   },
   "outputs": [],
   "source": [
    "m.minibatch = len(X)\n",
    "m._compile()\n",
    "ground_truth = m._objective(m.get_free_state())[0]\n",
    "print ground_truth"
   ]
  },
  {
   "cell_type": "code",
   "execution_count": null,
   "metadata": {
    "collapsed": false
   },
   "outputs": [],
   "source": [
    "mbps = np.logspace(-2, 0, 10)\n",
    "times = []\n",
    "for mbp in mbps:\n",
    "    m.minibatch = int(len(X) * mbp)\n",
    "    m._compile()\n",
    "    start_time = time.time()\n",
    "    objs = [m._objective(m.get_free_state())[0] for _ in xrange(20)]\n",
    "#    plt.hist(objs, bins = 100)\n",
    "#    plt.axvline(ground_truth, color='r')\n",
    "    times.append(time.time() - start_time)"
   ]
  },
  {
   "cell_type": "code",
   "execution_count": null,
   "metadata": {
    "collapsed": false
   },
   "outputs": [],
   "source": [
    "plt.plot(mbps, times, 'x-')\n",
    "plt.xlabel(\"Minibatch proportion\")\n",
    "plt.ylabel(\"Time taken\")"
   ]
  },
  {
   "cell_type": "code",
   "execution_count": null,
   "metadata": {
    "collapsed": true
   },
   "outputs": [],
   "source": [
    "class DAdamOptimizer(tf.train.AdamOptimizer):\n",
    "      def _valid_dtypes(self):\n",
    "            return set([tf.float32, tf.float64])\n",
    "\n",
    "class DGradientDescentOptimizer(tf.train.GradientDescentOptimizer):\n",
    "      def _valid_dtypes(self):\n",
    "            return set([tf.float32, tf.float64])"
   ]
  },
  {
   "cell_type": "code",
   "execution_count": null,
   "metadata": {
    "collapsed": false
   },
   "outputs": [],
   "source": [
    "opt_list = [{\"method\": \"L-BFGS-B\", \"minibatch\": len(X)},\n",
    "            {\"method\": tf.train.AdamOptimizer(), \"cast\": True, \"minibatch\": 1000},\n",
    "            {\"method\": tf.train.GradientDescentOptimizer(), \"cast\": True, \"minibatch\": 1000}]\n",
    "for opt in opt_list[1:2]:\n",
    "    m = init()\n",
    "    m._compile()\n",
    "    print m._objective(m.get_free_state())[0]\n",
    "    if \"minibatch\" in opt:\n",
    "        m.minibatch = opt['minibatch']\n",
    "    m._needs_recompile = True\n",
    "    ilist = []\n",
    "    tlist = []\n",
    "    flist = []\n",
    "    start_time = time.time()\n",
    "    def cb(x):\n",
    "        if cb.iteration % 10 == 0:\n",
    "            f = m._objective(x)[0]\n",
    "            flist.append(f)\n",
    "            ilist.append(cb.iteration)\n",
    "            tlist.append(time.time() - start_time)\n",
    "            sys.stdout.write('\\r' + str((cb.iteration, f)))\n",
    "            sys.stdout.flush()\n",
    "        cb.iteration += 1\n",
    "    cb.iteration = 0\n",
    "    m.optimize(max_iters=int(1000 * float(len(X)) / m.minibatch), callback=cb, **opt)\n",
    "    plt.figure(1)\n",
    "    plt.subplot(121)\n",
    "    plt.plot(ilist, flist)\n",
    "    plt.subplot(122)\n",
    "    plt.plot(tlist, flist)\n",
    "\n",
    "# m.optimize(method=DGradientDescentOptimizer(tf.constant(0.0001, tf.float64)), max_iters=10, callback=cb)\n",
    "# m.optimize(method=tf.train.GradientDescentOptimizer(0.0001), max_iters=10, callback=cb, cast=True)\n",
    "# m.optimize(method=tf.train.AdamOptimizer(), max_iters=10, callback=cb, cast=True)\n",
    "# m.optimize(method=DAdamOptimizer(), max_iters=10, callback=cb, cast=False)"
   ]
  },
  {
   "cell_type": "code",
   "execution_count": null,
   "metadata": {
    "collapsed": false
   },
   "outputs": [],
   "source": [
    "print m._objective(m.get_free_state())[0]\n",
    "x = m.get_free_state()\n",
    "x[:5] = 0.0\n",
    "print m._objective(x)[0]"
   ]
  },
  {
   "cell_type": "code",
   "execution_count": null,
   "metadata": {
    "collapsed": false
   },
   "outputs": [],
   "source": [
    "x"
   ]
  },
  {
   "cell_type": "code",
   "execution_count": null,
   "metadata": {
    "collapsed": false
   },
   "outputs": [],
   "source": []
  },
  {
   "cell_type": "code",
   "execution_count": null,
   "metadata": {
    "collapsed": false
   },
   "outputs": [],
   "source": [
    "ilist"
   ]
  },
  {
   "cell_type": "code",
   "execution_count": null,
   "metadata": {
    "collapsed": true
   },
   "outputs": [],
   "source": []
  }
 ],
 "metadata": {
  "kernelspec": {
   "display_name": "Python 2",
   "language": "python",
   "name": "python2"
  },
  "language_info": {
   "codemirror_mode": {
    "name": "ipython",
    "version": 2
   },
   "file_extension": ".py",
   "mimetype": "text/x-python",
   "name": "python",
   "nbconvert_exporter": "python",
   "pygments_lexer": "ipython2",
   "version": "2.7.11"
  }
 },
 "nbformat": 4,
 "nbformat_minor": 0
}
